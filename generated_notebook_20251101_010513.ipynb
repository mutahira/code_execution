{
 "cells": [
  {
   "cell_type": "code",
   "execution_count": null,
   "id": "a017f6f5",
   "metadata": {},
   "outputs": [],
   "source": [
    "import pandas as pd\n",
    "import matplotlib.pyplot as plt\n",
    "\n",
    "# Step 1: Loading dataset\n",
    "url = \"https://raw.githubusercontent.com/mwaskom/seaborn-data/refs/heads/master/glue.csv\"\n",
    "data = pd.read_csv(url)\n",
    "\n",
    "# Step 2: Getting top-10 models with highest scores\n",
    "top_models = data.nlargest(10, 'Score')\n",
    "\n",
    "# Step 3: Plotting\n",
    "plt.figure(figsize=(10, 6))\n",
    "plt.barh(top_models['Model'], top_models['Score'], color='skyblue')\n",
    "plt.xlabel('Score')\n",
    "plt.title('Top-10 Models with Highest Scores')\n",
    "plt.gca().invert_yaxis() # Invert y axis to have the highest score on top\n",
    "plt.show()"
   ]
  }
 ],
 "metadata": {
  "language_info": {
   "name": "python"
  }
 },
 "nbformat": 4,
 "nbformat_minor": 5
}
