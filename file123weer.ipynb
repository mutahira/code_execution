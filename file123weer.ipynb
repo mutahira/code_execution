{
 "cells": [
  {
   "cell_type": "code",
   "execution_count": null,
   "id": "ef202076",
   "metadata": {},
   "outputs": [],
   "source": [
    "print('hi')"
   ]
  }
 ],
 "metadata": {
  "language_info": {
   "name": "python"
  }
 },
 "nbformat": 4,
 "nbformat_minor": 5
}
