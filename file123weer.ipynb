{
 "cells": [
  {
   "cell_type": "code",
   "execution_count": null,
   "id": "d80b5359",
   "metadata": {},
   "outputs": [],
   "source": [
    "print('hi')"
   ]
  }
 ],
 "metadata": {
  "language_info": {
   "name": "python"
  }
 },
 "nbformat": 4,
 "nbformat_minor": 5
}
